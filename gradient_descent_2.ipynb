{
 "cells": [
  {
   "cell_type": "code",
   "execution_count": 194,
   "id": "84835c49",
   "metadata": {},
   "outputs": [],
   "source": [
    "import numpy as np\n",
    "import matplotlib.pyplot as plt\n",
    "from time import time\n"
   ]
  },
  {
   "cell_type": "markdown",
   "id": "cca616db",
   "metadata": {},
   "source": [
    "# Regular Gradient Descent"
   ]
  },
  {
   "cell_type": "code",
   "execution_count": 208,
   "id": "ab2852c9",
   "metadata": {},
   "outputs": [],
   "source": [
    "def gradient_descent(point, gamma, gradient, n_iter=1, epsilon=0.001):\n",
    "    p = point\n",
    "    points = []\n",
    "    for i in range(n_iter):\n",
    "        p = p - gamma * gradient(*p)\n",
    "        points.append(p)\n",
    "        if i != 0 and np.linalg.norm(p - points[-2]) < epsilon:\n",
    "            print(f\"Gradient descent converged in {i} steps!\")\n",
    "            return p, points\n",
    "    return p, points"
   ]
  },
  {
   "cell_type": "code",
   "execution_count": null,
   "id": "6b966800",
   "metadata": {},
   "outputs": [],
   "source": [
    "def timed_gradient_descent(point, gamma, gradient, time_limit=0.1, epsilon=0.001):\n",
    "    p = point\n",
    "    points = []\n",
    "    start, now = time(), time()\n",
    "    while now-start < time_limit:\n",
    "        p = p - gamma * gradient(*p)\n",
    "        points.append(p)\n",
    "        if len(points) >=2 and np.linalg.norm(p - points[-2]) < epsilon:\n",
    "            print(f\"Gradient descent converged in {now - start} seconds!\")\n",
    "            return p, points\n",
    "        now = time()\n",
    "    return p, points"
   ]
  },
  {
   "cell_type": "markdown",
   "id": "6d55a5ae",
   "metadata": {},
   "source": [
    "# Polyak Gradient Descent"
   ]
  },
  {
   "cell_type": "code",
   "execution_count": null,
   "id": "0f4a6402",
   "metadata": {},
   "outputs": [],
   "source": [
    "def polyak_gradient_descent(point, gamma, mu, gradient, n_iter=1, epsilon=0.001):\n",
    "    p = point\n",
    "    points = []\n",
    "    for i in range(n_iter):\n",
    "        if len(points) > 2:\n",
    "            p = p - gamma * gradient(*p) + mu * (p - points[-2])\n",
    "        else:\n",
    "            p = p - gamma * gradient(*p)\n",
    "\n",
    "        points.append(p)\n",
    "\n",
    "        if i != 0 and np.linalg.norm(p - points[-2]) < epsilon:\n",
    "            print(f\"Polyak gradient descent converged in {i} seconds!\")\n",
    "            return p, points\n",
    "    return p, points"
   ]
  },
  {
   "cell_type": "code",
   "execution_count": 224,
   "id": "f3e39a78",
   "metadata": {},
   "outputs": [],
   "source": [
    "def timed_polyak_gradient_descent(point, gamma, mu, gradient, time_limit=0.1, epsilon=0.001):\n",
    "    p = point\n",
    "    points = []\n",
    "    start, now = time(), time()\n",
    "    while now-start < time_limit:\n",
    "        if len(points) > 2:\n",
    "            p = p - gamma * gradient(*p) + mu * (p - points[-2])\n",
    "        else:\n",
    "            p = p - gamma * gradient(*p)\n",
    "\n",
    "        points.append(p)\n",
    "\n",
    "        if len(points) > 2 and np.linalg.norm(p - points[-2]) < epsilon:\n",
    "            print(f\"Polyak gradient descent converged in {now - start} steps!\")\n",
    "            return p, points\n",
    "        now = time()\n",
    "    return p, points"
   ]
  },
  {
   "cell_type": "markdown",
   "id": "2a6339f7",
   "metadata": {},
   "source": [
    "# Nesterov Gradient Descent"
   ]
  },
  {
   "cell_type": "code",
   "execution_count": 210,
   "id": "53df4a8a",
   "metadata": {},
   "outputs": [],
   "source": [
    "def nesterov_gradient_descent(point, gamma, mu, gradient, n_iter=1, epsilon=0.001):\n",
    "    p = point\n",
    "    points = []\n",
    "    for i in range(n_iter):\n",
    "        if len(points) > 2:\n",
    "            p = p - gamma * gradient(*(p + mu * (p - points[-2]))) + mu * (p - points[-2])\n",
    "        else:\n",
    "            p = p - gamma * gradient(*p)\n",
    "        \n",
    "        points.append(p)\n",
    "        \n",
    "        if i != 0 and np.linalg.norm(p - points[-2]) < epsilon:\n",
    "            print(f\"Nesterov gradient descent converged in {i} steps!\")\n",
    "            return p, points\n",
    "    return p, points"
   ]
  },
  {
   "cell_type": "code",
   "execution_count": 225,
   "id": "60abc404",
   "metadata": {},
   "outputs": [],
   "source": [
    "def timed_nesterov_gradient_descent(point, gamma, mu, gradient, time_limit=0.1, epsilon=0.001):\n",
    "    p = point\n",
    "    points = []\n",
    "    start, now = time(), time()\n",
    "    while now-start < time_limit:\n",
    "        if len(points) > 2:\n",
    "            p = p - gamma * gradient(*(p + mu * (p - points[-2]))) + mu * (p - points[-2])\n",
    "        else:\n",
    "            p = p - gamma * gradient(*p)\n",
    "        \n",
    "        points.append(p)\n",
    "        \n",
    "        if len(points) > 2 and np.linalg.norm(p - points[-2]) < epsilon:\n",
    "            print(f\"Nesterov gradient descent converged in {now - start} seconds!\")\n",
    "            return p, points\n",
    "        now = time()\n",
    "    return p, points"
   ]
  },
  {
   "cell_type": "markdown",
   "id": "2b5a600c",
   "metadata": {},
   "source": [
    "# AdaGrad"
   ]
  },
  {
   "cell_type": "code",
   "execution_count": null,
   "id": "44c4c4c5",
   "metadata": {},
   "outputs": [],
   "source": [
    "def adaGrad(point, gamma, gradient, n_iter=1, epsilon=0.001):\n",
    "    p = point\n",
    "    points = []\n",
    "    gradients = np.zeros((n_iter, point.shape[0]))\n",
    "    for i in range(n_iter):\n",
    "        grad = gradient(*p)\n",
    "        squared_gradient = np.square(grad)\n",
    "        gradients[i] = squared_gradient\n",
    "        d = np.sum(gradients, axis=0)\n",
    "        sqrt_d = np.sqrt(d)\n",
    "        div_sqrd_d = 1/(sqrt_d + 1e-7)\n",
    "        D = np.diag(div_sqrd_d)\n",
    "        p = p - gamma * (D @ grad)\n",
    "        points.append(p)\n",
    "\n",
    "        if i != 0 and np.linalg.norm(p - points[-2]) < epsilon:\n",
    "            print(f\"AdaGrad converged in {i} steps!\")\n",
    "            return p, points\n",
    "    return p, points"
   ]
  },
  {
   "cell_type": "code",
   "execution_count": 231,
   "id": "d86494f7",
   "metadata": {},
   "outputs": [],
   "source": [
    "def timed_adaGrad(point, gamma, gradient, time_limit=0.1, epsilon=0.001):\n",
    "    p = point\n",
    "    points = []\n",
    "    gradients = np.zeros(point.shape[0])\n",
    "    start, now = time(), time()\n",
    "    while now-start < time_limit:\n",
    "        grad = gradient(*p)\n",
    "        squared_gradient = np.square(grad)\n",
    "        gradients += squared_gradient\n",
    "        sqrt_d = np.sqrt(gradients)\n",
    "        div_sqrd_d = 1/(sqrt_d + 1e-7)\n",
    "        D = np.diag(div_sqrd_d)\n",
    "        p = p - gamma * (D @ grad)\n",
    "        points.append(p)\n",
    "\n",
    "        if len(points) > 2 and np.linalg.norm(p - points[-2]) < epsilon:\n",
    "            print(f\"AdaGrad converged in {now-start} seconds!\")\n",
    "            return p, points\n",
    "        now = time()\n",
    "    return p, points"
   ]
  },
  {
   "cell_type": "markdown",
   "id": "cc817fb7",
   "metadata": {},
   "source": [
    "# Newton method"
   ]
  },
  {
   "cell_type": "code",
   "execution_count": null,
   "id": "a5f115bd",
   "metadata": {},
   "outputs": [],
   "source": [
    "def newton_method(point, gradient, hessian, n_iter=1, epsilon=0.001):\n",
    "    p = point\n",
    "    points = []\n",
    "    for i in range(n_iter):\n",
    "        p = p - np.linalg.inv(hessian(*p)) @ gradient(*p)\n",
    "\n",
    "        points.append(p)\n",
    "        if i != 0 and np.linalg.norm(p - points[-2]) < epsilon:\n",
    "            print(f\"Newton method converged in {i} steps!\")\n",
    "            return p, points\n",
    "    return p, points"
   ]
  },
  {
   "cell_type": "code",
   "execution_count": 234,
   "id": "9b3b69cb",
   "metadata": {},
   "outputs": [],
   "source": [
    "def timed_newton_method(point, gradient, hessian, time_limit=0.1, epsilon=0.001):\n",
    "    p = point\n",
    "    points = []\n",
    "    start, now = time(), time()\n",
    "    while now-start < time_limit:\n",
    "        p = p - np.linalg.inv(hessian(*p)) @ gradient(*p)\n",
    "\n",
    "        points.append(p)\n",
    "        if len(points) > 2 and np.linalg.norm(p - points[-2]) < epsilon:\n",
    "            print(f\"Newton method converged in {now - start} seconds!\")\n",
    "            return p, points\n",
    "    return p, points"
   ]
  },
  {
   "cell_type": "markdown",
   "id": "0e8bad23",
   "metadata": {},
   "source": [
    "# BFGS"
   ]
  },
  {
   "cell_type": "code",
   "execution_count": 214,
   "id": "bd7cde8d",
   "metadata": {},
   "outputs": [],
   "source": [
    "def BFGS(point, gradient, n_iter=1, epsilon=0.001):\n",
    "    p = point\n",
    "    points = []\n",
    "    points.append(p)\n",
    "    H_approx = np.identity(p.shape[0])\n",
    "    previous_gradient = gradient(*p)\n",
    "    for i in range(n_iter):\n",
    "        \n",
    "        p = p - H_approx @ previous_gradient\n",
    "\n",
    "        current_gradient = gradient(*p)\n",
    "        delta_k = p - points[-1]\n",
    "        gamma_k = current_gradient - previous_gradient\n",
    "\n",
    "        points.append(p)\n",
    "\n",
    "        if i != 0 and np.linalg.norm(p - points[-2]) < epsilon:\n",
    "            print(f\"BFGS converged in {i} steps!\")\n",
    "            return p, points\n",
    "\n",
    "        nom1 = (np.outer(delta_k, gamma_k) @ H_approx) + (H_approx @ np.outer(gamma_k, delta_k))\n",
    "        denom1 = np.inner(delta_k, gamma_k)\n",
    "\n",
    "        nom2 = np.inner(gamma_k, H_approx@gamma_k)\n",
    "        denom2 = np.inner(delta_k, gamma_k)\n",
    "\n",
    "        nom3 = np.outer(delta_k, delta_k)\n",
    "        denom3 = np.inner(delta_k, gamma_k)\n",
    "\n",
    "        H_approx = H_approx - (nom1/denom1) + ((1 + (nom2/denom2)) * (nom3/denom3))\n",
    "\n",
    "        previous_gradient = current_gradient\n",
    "    return p, points\n"
   ]
  },
  {
   "cell_type": "code",
   "execution_count": null,
   "id": "83f9dd91",
   "metadata": {},
   "outputs": [],
   "source": [
    "def timed_BFGS(point, gradient, time_limit=0.1, epsilon=0.001):\n",
    "    p = point\n",
    "    points = []\n",
    "    points.append(p)\n",
    "    H_approx = np.identity(p.shape[0])\n",
    "    previous_gradient = gradient(*p)\n",
    "    start, now = time(), time()\n",
    "    while now-start < time_limit:\n",
    "        \n",
    "        p = p - H_approx @ previous_gradient\n",
    "\n",
    "        current_gradient = gradient(*p)\n",
    "        delta_k = p - points[-1]\n",
    "        gamma_k = current_gradient - previous_gradient\n",
    "\n",
    "        points.append(p)\n",
    "\n",
    "        if len(points) > 2 and np.linalg.norm(p - points[-2]) < epsilon:\n",
    "            print(f\"BFGS converged in {now - start} seconds!\")\n",
    "            return p, points\n",
    "\n",
    "        nom1 = (np.outer(delta_k, gamma_k) @ H_approx) + (H_approx @ np.outer(gamma_k, delta_k))\n",
    "        denom1 = np.inner(delta_k, gamma_k)\n",
    "\n",
    "        nom2 = np.inner(gamma_k, H_approx@gamma_k)\n",
    "        denom2 = np.inner(delta_k, gamma_k)\n",
    "\n",
    "        nom3 = np.outer(delta_k, delta_k)\n",
    "        denom3 = np.inner(delta_k, gamma_k)\n",
    "\n",
    "        H_approx = H_approx - (nom1/denom1) + ((1 + (nom2/denom2)) * (nom3/denom3))\n",
    "\n",
    "        previous_gradient = current_gradient\n",
    "    return p, points"
   ]
  },
  {
   "cell_type": "code",
   "execution_count": 46,
   "id": "c4bf6732",
   "metadata": {},
   "outputs": [],
   "source": [
    "def func(x, y):\n",
    "    return x**2 + np.e**x + y**2 -x*y\n",
    "\n",
    "def grad_func(x, y):\n",
    "    return np.array([2*x + np.e**x - y, 2*y -x])\n",
    "\n",
    "def hessian_func(x, y):\n",
    "    return np.array([[2 + np.e**x, -1],\n",
    "                     [-1, 2]])"
   ]
  },
  {
   "cell_type": "code",
   "execution_count": 215,
   "id": "a6d2a9a9",
   "metadata": {},
   "outputs": [
    {
     "name": "stdout",
     "output_type": "stream",
     "text": [
      "Gradient descent converged in 39 steps!\n",
      "(array([-0.42860024, -0.21082297]), [array([0.62817182, 0.9       ]), array([0.40511934, 0.78281718]), array([0.25242905, 0.66676568]), array([0.13990499, 0.55865545]), array([0.05277309, 0.46091486]), array([-0.01710909,  0.37400919]), array([-0.07458999,  0.29749645]), array([-0.12273474,  0.23053816]), array([-0.16358381,  0.17215705]), array([-0.19856087,  0.12136726]), array([-0.22870296,  0.07723772]), array([-0.25479508,  0.03891988]), array([-0.2774516,  0.0056564]), array([-0.29716687, -0.02322004]), array([-0.3143475 , -0.04829272]), array([-0.32933379, -0.07006893]), array([-0.34241421, -0.08898852]), array([-0.35383563, -0.10543224]), array([-0.36381076, -0.11972935]), array([-0.37252381, -0.13216456]), array([-0.38013483, -0.14298403]), array([-0.38678319, -0.15240071]), array([-0.39259046, -0.16059888]), array([-0.39766278, -0.16773815]), array([-0.40209289, -0.1739568 ]), array([-0.40596186, -0.17937473]), array([-0.40934052, -0.18409597]), array([-0.41229082, -0.18821083]), array([-0.4148669 , -0.19179774]), array([-0.41711612, -0.19492488]), array([-0.41907982, -0.19765152]), array([-0.42079418, -0.2000292 ]), array([-0.42229078, -0.20210278]), array([-0.42359724, -0.2039113 ]), array([-0.42473768, -0.20548876]), array([-0.42573315, -0.20686478]), array([-0.42660206, -0.20806514]), array([-0.42736049, -0.20911232]), array([-0.42802246, -0.2100259 ]), array([-0.42860024, -0.21082297])])\n",
      "Polyak gradient descent converged in 9 steps!\n",
      "(array([-0.43257269, -0.21623657]), [array([-0.85914091,  0.5       ]), array([ 0.03823711, -0.42957046]), array([-0.73427401,  0.01911856]), array([-0.30761868, -0.3222681 ]), array([-0.48606632, -0.18794801]), array([-0.41933928, -0.22960115]), array([-0.43686842, -0.21383495]), array([-0.43169861, -0.21685759]), array([-0.43261435, -0.21615157]), array([-0.43257269, -0.21623657])])\n",
      "Nesterov gradient descent converged in 36 steps!\n",
      "(array([-0.42917659, -0.21161787]), [array([0.62817182, 0.9       ]), array([0.40511934, 0.78281718]), array([0.25242905, 0.66676568]), array([0.12847967, 0.54784443]), array([0.03415392, 0.44037031]), array([-0.03976358,  0.34617046]), array([-0.09944314,  0.26468484]), array([-0.1486707 ,  0.19468792]), array([-0.189868  ,  0.13479123]), array([-0.22467683,  0.08364248]), array([-0.25427328,  0.04000631]), array([-0.27954088,  0.00279086]), array([-0.30116945, -0.02895131]), array([-0.31971377, -0.05603365]), array([-0.33562987, -0.07915033]), array([-0.34929845, -0.09889174]), array([-0.36104078, -0.11575924]), array([-0.37112988, -0.13017829]), array([-0.37979891, -0.14251004]), array([-0.38724759, -0.15306115]), array([-0.39364734, -0.16209226]), array([-0.39914542, -0.16982502]), array([-0.40386845, -0.17644816]), array([-0.40792532, -0.18212246]), array([-0.41140967, -0.18698501]), array([-0.41440206, -0.19115282]), array([-0.41697176, -0.19472581]), array([-0.41917831, -0.19778936]), array([-0.42107293, -0.20041647]), array([-0.42269962, -0.20266958]), array([-0.42409621, -0.20460215]), array([-0.42529519, -0.20625991]), array([-0.42632448, -0.20768206]), array([-0.42720808, -0.20890216]), array([-0.42796659, -0.20994898]), array([-0.42861769, -0.21084717]), array([-0.42917659, -0.21161787])])\n",
      "AdaGrad converged in 48 steps!\n",
      "(array([-0.43255301, -0.2163248 ]), [array([2.68941415e-08, 9.99999901e-08]), array([-2.59712891e-01, -7.31058313e-08]), array([-0.32498142, -0.25137347]), array([-0.40864207, -0.08180758]), array([-0.39032884, -0.30939867]), array([-0.44333525, -0.10181045]), array([-0.40649677, -0.31462725]), array([-0.44964526, -0.12062182]), array([-0.41341932, -0.29920641]), array([-0.44780822, -0.14263596]), array([-0.41852247, -0.2789162 ]), array([-0.44418543, -0.16289912]), array([-0.42257758, -0.26101606]), array([-0.44086666, -0.17886871]), array([-0.42561747, -0.24737042]), array([-0.43832751, -0.19050227]), array([-0.42779112, -0.23760982]), array([-0.43651376, -0.19866302]), array([-0.42930509, -0.23082608]), array([-0.43525524, -0.20428679]), array([-0.43034565, -0.22617263]), array([-0.43439299, -0.20813021]), array([-0.43105615, -0.22299952]), array([-0.4338055 , -0.21074676]), array([-0.43153973, -0.22084172]), array([-0.43340619, -0.21252488]), array([-0.43186836, -0.21937617]), array([-0.43313507, -0.2137322 ]), array([-0.43209151, -0.21838136]), array([-0.43295107, -0.21455165]), array([-0.43224298, -0.21770625]), array([-0.43282622, -0.21510773]), array([-0.43234578, -0.21724815]), array([-0.43274151, -0.21548505]), array([-0.43241553, -0.21693733]), array([-0.43268404, -0.21574107]), array([-0.43246286, -0.21672643]), array([-0.43264504, -0.21591479]), array([-0.43249498, -0.21658334]), array([-0.43261859, -0.21603265]), array([-0.43251677, -0.21648626]), array([-0.43260064, -0.21611262]), array([-0.43253155, -0.21642039]), array([-0.43258846, -0.21616688]), array([-0.43254159, -0.21637569]), array([-0.43258019, -0.21620369]), array([-0.43254839, -0.21634537]), array([-0.43257459, -0.21622867]), array([-0.43255301, -0.2163248 ])])\n",
      "Newton method converged in 4 steps!\n",
      "(array([-0.43256276, -0.21628138]), [array([1.11022302e-16, 1.11022302e-16]), array([-0.4, -0.2]), array([-0.43240077, -0.21620039]), array([-0.43256275, -0.21628138]), array([-0.43256276, -0.21628138])])\n"
     ]
    }
   ],
   "source": [
    "print(gradient_descent(np.array([1,1]), 0.1, grad_func, n_iter=100, epsilon=0.001))\n",
    "print(polyak_gradient_descent(np.array([1,1]), 0.5, 0.1, grad_func, n_iter=100, epsilon=0.001))\n",
    "print(nesterov_gradient_descent(np.array([1,1]), 0.1, 0.1, grad_func, n_iter=100, epsilon=0.001))\n",
    "print(adaGrad(np.array([1,1]), 1, grad_func, n_iter=100, epsilon=0.0001))\n",
    "print(newton_method(np.array([1,1]), grad_func, hessian_func, n_iter=100,epsilon=0.0001))"
   ]
  },
  {
   "attachments": {
    "image.png": {
     "image/png": "[encoded data removed]"
    }
   },
   "cell_type": "markdown",
   "id": "6a156873",
   "metadata": {},
   "source": [
    "![image.png](attachment:image.png)"
   ]
  },
  {
   "cell_type": "code",
   "execution_count": 183,
   "id": "8e971cde",
   "metadata": {},
   "outputs": [],
   "source": [
    "def f1(x, y, z):\n",
    "    return (x - z) ** 2 + (2*y + z) ** 2 + (4*x -2*y + z) ** 2 + x + y\n",
    "\n",
    "def grad_f1(x, y, z):\n",
    "    dx = 34*x - 16*y + 6*z + 1\n",
    "    dy = -16*x + 16*y + 1\n",
    "    dz = 6*x + 6*z\n",
    "    return np.array([dx, dy, dz])\n",
    "\n",
    "def hessian_f1(x, y, z):\n",
    "    return np.array([[34, -16, 6],\n",
    "                [-16, 16, 0],\n",
    "                [6, 0, 6]])\n",
    "\n",
    "def f2(x, y, z):\n",
    "    return ((x - 1) ** 2) + ((y - 1) ** 2) + 100*((y - (x ** 2)) ** 2) + 100*((z - (y ** 2)) ** 2)\n",
    "\n",
    "def grad_f2(x, y , z):\n",
    "    dx = 400 * (x ** 3) - 400*x*y +2*x -2\n",
    "    dy = 400*(y ** 3) - 200*(x ** 2) - 400*z*y + 202*y -2\n",
    "    dz = 200*z - 200*(y ** 2)\n",
    "    return np.array([dx, dy, dz])\n",
    "\n",
    "def hessian_f2(x, y, z):\n",
    "    return np.array([[1200 * x ** 2 - 400 * y + 2, -400 * x, 0],\n",
    "              [-400 * x, 1200 * y ** 2 - 400 * z + 202, -400 * y],\n",
    "              [0, -400 * y, 200]])\n",
    "\n",
    "def f3(x, y):\n",
    "    return (1.5 - x + x*y) ** 2 + (2.25 - x + x*(y ** 2)) ** 2 + (2.625 - x + x*(y ** 3)) ** 2\n",
    "\n",
    "def grad_f3(x, y):\n",
    "    dx = 2*(1.5 - x + x*y)*(y-1) + 2*(2.25 - x + x*(y ** 2))*(y ** 2 - 1) + 2*(2.625 - x + x*(y ** 3))*(y ** 3 -1)\n",
    "    dy = 2*x*(1.5 - x + x*y) + 4*x*y*(2.25 - x + x*(y ** 2)) + 6*x*(y ** 2)*(2.625 - x + x*(y ** 3))\n",
    "    return np.array([dx, dy])\n",
    "\n",
    "def hessian_f3(x, y):\n",
    "    return np.array([[2*(y-1)**2 + 2*(y**2-1)**2 + 2*(y**3-1)**2, 2*(1.5-x+x*y) + 2*x*(y-1) +4*y*(2.25-x+x*y**2) + 4*x*y*(y**2-1) +6*y**2*(2.625-x+x*y**3)+6*x*y**2*(y**3-1)],\n",
    "                     [2*(1.5-x+x*y) + 2*x*(y-1) +4*y*(2.25-x+x*y**2) + 4*x*y*(y**2-1) +6*y**2*(2.625-x+x*y**3)+6*x*y**2*(y**3-1), 2*x**2+4*x*(2.25-x+x*y**2)+8*x**2*y**2+12*x*y*(2.625-x+x*y**3)+18*x**2*y**4]])"
   ]
  },
  {
   "cell_type": "code",
   "execution_count": 190,
   "id": "3f704382",
   "metadata": {},
   "outputs": [],
   "source": [
    "def compare_methods_with_steps(starting_point, function, gradient, hessian, n_iter, epsilon):\n",
    "\n",
    "    point1, points1 = gradient_descent(starting_point, 0.001, gradient, n_iter, epsilon)\n",
    "    print(f\"Gradient Descent: x = {point1}  |  f(x) = {function(*point1)}\")\n",
    "\n",
    "    point2, points2 = polyak_gradient_descent(starting_point, 0.001, 0.5, gradient, n_iter, epsilon)\n",
    "    print(f\"Polyak Gradient Descent: x = {point2}  |  f(x) = {function(*point2)}\")\n",
    "\n",
    "    point3, points3 = nesterov_gradient_descent(starting_point, 0.001, 0.5, gradient, n_iter, epsilon)\n",
    "    print(f\"Nesterov Gradient Descent: x = {point3}  |  f(x) = {function(*point3)}\")\n",
    "\n",
    "    point4, points4 = adaGrad(starting_point, 1, gradient, n_iter, epsilon)\n",
    "    print(f\"AdaGrad Gradient Descent: x = {point4}  |  f(x) = {function(*point4)}\")\n",
    "\n",
    "    point5, points5 = newton_method(starting_point, gradient, hessian, n_iter)\n",
    "    print(f\"Newton method: x = {point5}  |  f(x) = {function(*point5)}\")\n",
    "\n",
    "    point6, points6 = BFGS(starting_point, gradient, n_iter, epsilon)\n",
    "    print(f\"BFGS: x = {point6}  |  f(x) = {function(*point6)}\")\n"
   ]
  },
  {
   "cell_type": "code",
   "execution_count": 201,
   "id": "ab8b404f",
   "metadata": {},
   "outputs": [
    {
     "name": "stdout",
     "output_type": "stream",
     "text": [
      "Gradient Descent: x = [2.98213171 0.49550519]  |  f(x) = 5.215290855922319e-05\n",
      "Polyak Gradient Descent: x = [2.99915098 0.49978801]  |  f(x) = 1.1553092676658564e-07\n",
      "Nesterov Gradient Descent: x = [2.99914883 0.49978747]  |  f(x) = 1.161171661557816e-07\n",
      "4797\n",
      "AdaGrad Gradient Descent: x = [3.  0.5]  |  f(x) = 4.369779070677727e-20\n",
      "1\n",
      "Newton method: x = [0. 1.]  |  f(x) = 14.203125\n"
     ]
    },
    {
     "name": "stderr",
     "output_type": "stream",
     "text": [
      "c:\\Users\\matej\\miniconda3\\envs\\MLDS_P2\\lib\\site-packages\\numpy\\core\\numeric.py:943: RuntimeWarning: overflow encountered in multiply\n",
      "  return multiply(a.ravel()[:, newaxis], b.ravel()[newaxis, :], out)\n",
      "C:\\Users\\matej\\AppData\\Local\\Temp\\ipykernel_27264\\3480624397.py:21: RuntimeWarning: invalid value encountered in matmul\n",
      "  nom1 = (np.outer(delta_k, gamma_k) @ H_approx) + (H_approx @ np.outer(gamma_k, delta_k))\n",
      "C:\\Users\\matej\\AppData\\Local\\Temp\\ipykernel_27264\\3480624397.py:30: RuntimeWarning: invalid value encountered in scalar divide\n",
      "  H_approx = H_approx - (nom1/denom1) + ((1 + (nom2/denom2)) * (nom3/denom3))\n"
     ]
    },
    {
     "name": "stdout",
     "output_type": "stream",
     "text": [
      "BFGS: x = [nan nan]  |  f(x) = nan\n"
     ]
    }
   ],
   "source": [
    "compare_methods_with_steps(np.array([1, 1]), f3, grad_f3, hessian_f3, 10000, 1e-10)"
   ]
  },
  {
   "cell_type": "code",
   "execution_count": 237,
   "id": "6cce93d2",
   "metadata": {},
   "outputs": [
    {
     "name": "stdout",
     "output_type": "stream",
     "text": [
      "BFGS converged in 0.0 steps!\n",
      "(array([-0.43256266, -0.21628146]), [array([1, 1]), array([-2.71828183,  0.        ]), array([-1.10177989, -1.48920638]), array([0.01467197, 0.19667725]), array([-0.49971444, -0.2254807 ]), array([-0.43591814, -0.22331911]), array([-0.43236867, -0.21581821]), array([-0.43256266, -0.21628146])])\n"
     ]
    }
   ],
   "source": [
    "print(timed_BFGS(np.array([1,1]), grad_func, time_limit=5, epsilon=0.001))"
   ]
  }
 ],
 "metadata": {
  "kernelspec": {
   "display_name": "MLDS_P2",
   "language": "python",
   "name": "python3"
  },
  "language_info": {
   "codemirror_mode": {
    "name": "ipython",
    "version": 3
   },
   "file_extension": ".py",
   "mimetype": "text/x-python",
   "name": "python",
   "nbconvert_exporter": "python",
   "pygments_lexer": "ipython3",
   "version": "3.8.20"
  }
 },
 "nbformat": 4,
 "nbformat_minor": 5
}
