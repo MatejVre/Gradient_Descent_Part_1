{
 "cells": [
  {
   "cell_type": "code",
   "execution_count": 1,
   "id": "84835c49",
   "metadata": {},
   "outputs": [],
   "source": [
    "import numpy as np\n",
    "import matplotlib.pyplot as plt\n"
   ]
  },
  {
   "cell_type": "markdown",
   "id": "cca616db",
   "metadata": {},
   "source": [
    "# Regular Gradient Descent"
   ]
  },
  {
   "cell_type": "code",
   "execution_count": 53,
   "id": "ab2852c9",
   "metadata": {},
   "outputs": [],
   "source": [
    "def gradient_descent(point, gamma, gradient, n_iter=1, epsilon=0.001):\n",
    "    p = point\n",
    "    points = []\n",
    "    for i in range(n_iter):\n",
    "        p = p - gamma * gradient(*p)\n",
    "        points.append(p)\n",
    "        if i != 0 and np.linalg.norm(p - points[-2]) < epsilon:\n",
    "            print(i)\n",
    "            return p, points\n",
    "    return p, points"
   ]
  },
  {
   "cell_type": "markdown",
   "id": "6d55a5ae",
   "metadata": {},
   "source": [
    "# Polyak Gradient Descent"
   ]
  },
  {
   "cell_type": "code",
   "execution_count": 52,
   "id": "0f4a6402",
   "metadata": {},
   "outputs": [],
   "source": [
    "def polyak_gradient_descent(point, gamma, mu, gradient, n_iter=1, epsilon=0.001):\n",
    "    p = point\n",
    "    points = []\n",
    "    for i in range(n_iter):\n",
    "        if points != []:\n",
    "            p = p - gamma * gradient(*p) + mu * (p - points[-1])\n",
    "        else:\n",
    "            p = p - gamma * gradient(*p)\n",
    "\n",
    "        points.append(p)\n",
    "\n",
    "        if i != 0 and np.linalg.norm(p - points[-2]) < epsilon:\n",
    "            print(i)\n",
    "            return p, points\n",
    "    return p, points"
   ]
  },
  {
   "cell_type": "markdown",
   "id": "2a6339f7",
   "metadata": {},
   "source": [
    "# Nesterov Gradient Descent"
   ]
  },
  {
   "cell_type": "code",
   "execution_count": 51,
   "id": "53df4a8a",
   "metadata": {},
   "outputs": [],
   "source": [
    "def nesterov_gradient_descent(point, gamma, mu, gradient, n_iter=1, epsilon=0.001):\n",
    "    p = point\n",
    "    points = []\n",
    "    for i in range(n_iter):\n",
    "        if points != []:\n",
    "            p = p - gamma * gradient(*(p + mu * (p - points[-1]))) + mu * (p - points[-1])\n",
    "        else:\n",
    "            p = p - gamma * gradient(*p)\n",
    "        \n",
    "        points.append(p)\n",
    "        \n",
    "        if i != 0 and np.linalg.norm(p - points[-2]) < epsilon:\n",
    "            print(i)\n",
    "            return p, points\n",
    "    return p, points"
   ]
  },
  {
   "cell_type": "markdown",
   "id": "2b5a600c",
   "metadata": {},
   "source": [
    "# AdaGrad"
   ]
  },
  {
   "cell_type": "code",
   "execution_count": 49,
   "id": "44c4c4c5",
   "metadata": {},
   "outputs": [],
   "source": [
    "def adaGrad(point, gamma, gradient, n_iter=1, epsilon=0.001):\n",
    "    p = point\n",
    "    points = []\n",
    "    gradients = np.zeros((n_iter, point.shape[0]))\n",
    "    for i in range(n_iter):\n",
    "        grad = gradient(*p)\n",
    "        squared_gradient = np.square(grad)\n",
    "        gradients[i] = squared_gradient\n",
    "        d = np.sum(gradients, axis=0)\n",
    "        sqrt_d = np.sqrt(d) + 1e-7\n",
    "        D = np.diag(sqrt_d)\n",
    "        p = p - gamma * (D @ grad)\n",
    "        points.append(p)\n",
    "\n",
    "        if i != 0 and np.linalg.norm(p - points[-2]) < epsilon:\n",
    "            print(i)\n",
    "            return p, points\n",
    "    return p, points"
   ]
  },
  {
   "cell_type": "code",
   "execution_count": 19,
   "id": "c4bf6732",
   "metadata": {},
   "outputs": [],
   "source": [
    "def func(x, y):\n",
    "    return x**2 + np.e**x + y**2 -x*y\n",
    "\n",
    "def grad_func(x, y):\n",
    "    return np.array([2*x + np.e**x - y, 2*y -x])"
   ]
  },
  {
   "cell_type": "code",
   "execution_count": null,
   "id": "a6d2a9a9",
   "metadata": {},
   "outputs": [
    {
     "name": "stdout",
     "output_type": "stream",
     "text": [
      "39\n",
      "(array([-0.42860024, -0.21082297]), [array([0.62817182, 0.9       ]), array([0.40511934, 0.78281718]), array([0.25242905, 0.66676568]), array([0.13990499, 0.55865545]), array([0.05277309, 0.46091486]), array([-0.01710909,  0.37400919]), array([-0.07458999,  0.29749645]), array([-0.12273474,  0.23053816]), array([-0.16358381,  0.17215705]), array([-0.19856087,  0.12136726]), array([-0.22870296,  0.07723772]), array([-0.25479508,  0.03891988]), array([-0.2774516,  0.0056564]), array([-0.29716687, -0.02322004]), array([-0.3143475 , -0.04829272]), array([-0.32933379, -0.07006893]), array([-0.34241421, -0.08898852]), array([-0.35383563, -0.10543224]), array([-0.36381076, -0.11972935]), array([-0.37252381, -0.13216456]), array([-0.38013483, -0.14298403]), array([-0.38678319, -0.15240071]), array([-0.39259046, -0.16059888]), array([-0.39766278, -0.16773815]), array([-0.40209289, -0.1739568 ]), array([-0.40596186, -0.17937473]), array([-0.40934052, -0.18409597]), array([-0.41229082, -0.18821083]), array([-0.4148669 , -0.19179774]), array([-0.41711612, -0.19492488]), array([-0.41907982, -0.19765152]), array([-0.42079418, -0.2000292 ]), array([-0.42229078, -0.20210278]), array([-0.42359724, -0.2039113 ]), array([-0.42473768, -0.20548876]), array([-0.42573315, -0.20686478]), array([-0.42660206, -0.20806514]), array([-0.42736049, -0.20911232]), array([-0.42802246, -0.2100259 ]), array([-0.42860024, -0.21082297])])\n",
      "21\n",
      "(array([-0.43231587, -0.2164609 ]), [array([-0.85914091,  0.5       ]), array([ 0.03823711, -0.42957046]), array([-0.73427401,  0.01911856]), array([-0.23036757, -0.367137  ]), array([-0.58068931, -0.11518379]), array([-0.33734817, -0.29034465]), array([-0.50200249, -0.16867409]), array([-0.3869957 , -0.25100124]), array([-0.46504763, -0.19349785]), array([-0.41080152, -0.23252382]), array([-0.44782118, -0.20540076]), array([-0.42220985, -0.22391059]), array([-0.43975352, -0.21110493]), array([-0.42765006, -0.21987676]), array([-0.43595816, -0.21382503]), array([-0.43023491, -0.21797908]), array([-0.43416769, -0.21511745]), array([-0.43146053, -0.21708385]), array([-0.43332177, -0.21573027]), array([-0.43204105, -0.21666089]), array([-0.43292181, -0.21602053]), array([-0.43231587, -0.2164609 ])])\n",
      "39\n",
      "(array([-0.42860024, -0.21082297]), [array([0.62817182, 0.9       ]), array([0.40511934, 0.78281718]), array([0.25242905, 0.66676568]), array([0.13990499, 0.55865545]), array([0.05277309, 0.46091486]), array([-0.01710909,  0.37400919]), array([-0.07458999,  0.29749645]), array([-0.12273474,  0.23053816]), array([-0.16358381,  0.17215705]), array([-0.19856087,  0.12136726]), array([-0.22870296,  0.07723772]), array([-0.25479508,  0.03891988]), array([-0.2774516,  0.0056564]), array([-0.29716687, -0.02322004]), array([-0.3143475 , -0.04829272]), array([-0.32933379, -0.07006893]), array([-0.34241421, -0.08898852]), array([-0.35383563, -0.10543224]), array([-0.36381076, -0.11972935]), array([-0.37252381, -0.13216456]), array([-0.38013483, -0.14298403]), array([-0.38678319, -0.15240071]), array([-0.39259046, -0.16059888]), array([-0.39766278, -0.16773815]), array([-0.40209289, -0.1739568 ]), array([-0.40596186, -0.17937473]), array([-0.40934052, -0.18409597]), array([-0.41229082, -0.18821083]), array([-0.4148669 , -0.19179774]), array([-0.41711612, -0.19492488]), array([-0.41907982, -0.19765152]), array([-0.42079418, -0.2000292 ]), array([-0.42229078, -0.20210278]), array([-0.42359724, -0.2039113 ]), array([-0.42473768, -0.20548876]), array([-0.42573315, -0.20686478]), array([-0.42660206, -0.20806514]), array([-0.42736049, -0.20911232]), array([-0.42802246, -0.2100259 ]), array([-0.42860024, -0.21082297])])\n",
      "15\n",
      "(array([-0.43201639, -0.21535356]), [array([-0.38256201,  0.89999999]), array([-0.00449265,  0.37602248]), array([-0.24223624,  0.18559238]), array([-0.28696317,  0.02666766]), array([-0.34542325, -0.06225394]), array([-0.37635776, -0.1201861 ]), array([-0.39735008, -0.15589444]), array([-0.41033461, -0.17837381]), array([-0.4185767 , -0.19245557]), array([-0.423758  , -0.20130304]), array([-0.42702217, -0.20686205]), array([-0.42907631, -0.210357  ]), array([-0.43036907, -0.21255477]), array([-0.43118252, -0.21393707]), array([-0.43169436, -0.21480658]), array([-0.43201639, -0.21535356])])\n"
     ]
    }
   ],
   "source": [
    "print(gradient_descent(np.array([1,1]), 0.1, grad_func, n_iter=100, epsilon=0.001))\n",
    "print(polyak_gradient_descent(np.array([1,1]), 0.5, 0.1, grad_func, n_iter=100, epsilon=0.001))\n",
    "print(nesterov_gradient_descent(np.array([1,1]), 0.1, 0.1, grad_func, n_iter=100, epsilon=0.001))\n",
    "print(adaGrad(np.array([1,1]), 0.1, grad_func, n_iter=100, epsilon=0.001))"
   ]
  }
 ],
 "metadata": {
  "kernelspec": {
   "display_name": "MLDS_P2",
   "language": "python",
   "name": "python3"
  },
  "language_info": {
   "codemirror_mode": {
    "name": "ipython",
    "version": 3
   },
   "file_extension": ".py",
   "mimetype": "text/x-python",
   "name": "python",
   "nbconvert_exporter": "python",
   "pygments_lexer": "ipython3",
   "version": "3.8.20"
  }
 },
 "nbformat": 4,
 "nbformat_minor": 5
}
